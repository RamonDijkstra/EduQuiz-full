{
 "cells": [
  {
   "cell_type": "code",
   "execution_count": 1,
   "id": "8ced4de7",
   "metadata": {},
   "outputs": [],
   "source": [
    "import datasets\n",
    "import json\n",
    "import os\n",
    "import numpy as np\n",
    "import collections\n",
    "import re\n",
    "import string\n",
    "import math"
   ]
  },
  {
   "cell_type": "code",
   "execution_count": 2,
   "id": "76867e37",
   "metadata": {},
   "outputs": [],
   "source": [
    "# Change these variables to perform evalution for you task\n",
    "test_path = os.path.abspath(os.getcwd()).split('gpt3_evaluation_scripts')[0] + 'processed_data/gpt3/completion_6/processed_test.json'\n",
    "quiz_path = os.path.abspath(os.getcwd()).split('gpt3_evaluation_scripts')[0] + 'generated_data_gpt3/experiment_6/generated_quiz.json'\n",
    "generated_path = os.path.abspath(os.getcwd()).split('gpt3_evaluation_scripts')[0] + 'generated_data_gpt3/experiment_6/generated_answers_macaw.json'"
   ]
  },
  {
   "cell_type": "code",
   "execution_count": 3,
   "id": "70b66793",
   "metadata": {},
   "outputs": [],
   "source": [
    "# Get all the target prompts and completions\n",
    "test_data = []\n",
    "\n",
    "for line in open(test_path):\n",
    "    test_data.append((json.loads(line)))\n",
    "\n",
    "# Get quizzes\n",
    "quizzes = []\n",
    "with open(quiz_path) as f:\n",
    "    generated_quizzes = json.load(f)\n",
    "\n",
    "for key in generated_quizzes:\n",
    "    quizzes.append(generated_quizzes[key])\n",
    "    \n",
    "# Get the generated completions\n",
    "generated_data = []\n",
    "with open(generated_path) as f:\n",
    "    generated = json.load(f)\n",
    "\n",
    "for key in generated:\n",
    "    generated_data.append(generated[key])"
   ]
  },
  {
   "cell_type": "code",
   "execution_count": 4,
   "id": "3d9dfcfa",
   "metadata": {},
   "outputs": [
    {
     "name": "stdout",
     "output_type": "stream",
     "text": [
      "Accuracy: 70.53 %\n"
     ]
    }
   ],
   "source": [
    "count = 0\n",
    "similar_count = 0\n",
    "\n",
    "predictions = []\n",
    "gold_references = []\n",
    "\n",
    "for i in range(len(test_data)):\n",
    "    count += 1\n",
    "    \n",
    "    completion = quizzes[i].split('True answer: ')[1].split(\"\\nFalse answer\")[0]\n",
    "    clean_completion = completion.replace(\" \",\"\").replace(\"~\",\"\")\n",
    "    \n",
    "    generated_completion = generated_data[i][0].split('= ')[-1]\n",
    "    clean_generated_completion = generated_completion.replace(\" \",\"\")\n",
    "    \n",
    "    if clean_completion == clean_generated_completion:\n",
    "        similar_count += 1\n",
    "        \n",
    "    predictions.append(generated_completion)\n",
    "    gold_references.append(completion)\n",
    "    \n",
    "print('Accuracy:', round(similar_count/count * 100, 2), '%')"
   ]
  },
  {
   "cell_type": "code",
   "execution_count": 5,
   "id": "ea82f6b7",
   "metadata": {},
   "outputs": [],
   "source": [
    "# Create result files\n",
    "\n",
    "with open(os.path.abspath(os.getcwd()).split('gpt3_evaluation_scripts')[0] + 'generated_data_gpt3/experiment_6/' + 'predictions_answers_macaw.txt', 'w') as f:\n",
    "    for i in range(len(predictions)):\n",
    "        f.write(predictions[i] + '\\n')\n",
    "        \n",
    "with open(os.path.abspath(os.getcwd()).split('gpt3_evaluation_scripts')[0] + 'generated_data_gpt3/experiment_6/' + 'ground_truth_answers.txt', 'w') as f:\n",
    "    for i in range(len(gold_references)):\n",
    "        f.write(gold_references[i] + '\\n')\n",
    "        \n",
    "with open(os.path.abspath(os.getcwd()).split('gpt3_evaluation_scripts')[0] + 'generated_data_gpt3/experiment_6/' + 'automatic_evaluation_macaw.txt', 'w') as f:\n",
    "    f.write('Accuracy: ' + str(round(similar_count/count * 100, 2)) + '%')"
   ]
  },
  {
   "cell_type": "code",
   "execution_count": 6,
   "id": "6515172f",
   "metadata": {},
   "outputs": [],
   "source": [
    "count = 0\n",
    "with open(os.path.abspath(os.getcwd()).split('gpt3_evaluation_scripts')[0] + 'human_evaluation/experiment6/' + 'exp6_gpt3.txt', 'w') as f:\n",
    "    for i in range(0,len(test_data),math.floor(len(test_data)/100)):\n",
    "        f.write('Excel row: ' + str(count+2) + ' Test instance: ' + str(i+1) + '\\n\\n')\n",
    "        f.write(test_data[i]['prompt'].split(\"\\n\\n###\")[0] + '\\n\\n')\n",
    "        f.write('Generated quiz:\\n')\n",
    "        f.write(quizzes[i].strip() + '\\n\\n')\n",
    "        f.write('----------------------------------------------------------------------------------------' + '\\n\\n')\n",
    "        count+=1\n",
    "        \n",
    "        if count == 100:\n",
    "            break"
   ]
  }
 ],
 "metadata": {
  "kernelspec": {
   "display_name": "test",
   "language": "python",
   "name": "test"
  },
  "language_info": {
   "codemirror_mode": {
    "name": "ipython",
    "version": 3
   },
   "file_extension": ".py",
   "mimetype": "text/x-python",
   "name": "python",
   "nbconvert_exporter": "python",
   "pygments_lexer": "ipython3",
   "version": "3.9.7"
  }
 },
 "nbformat": 4,
 "nbformat_minor": 5
}
