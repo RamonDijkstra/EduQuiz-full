{
 "cells": [
  {
   "cell_type": "code",
   "execution_count": 1,
   "id": "8ced4de7",
   "metadata": {},
   "outputs": [],
   "source": [
    "import datasets\n",
    "import json\n",
    "import os\n",
    "import numpy as np\n",
    "import collections\n",
    "import re\n",
    "import string\n",
    "import math"
   ]
  },
  {
   "cell_type": "code",
   "execution_count": 2,
   "id": "76867e37",
   "metadata": {},
   "outputs": [],
   "source": [
    "# Change these variables to perform evalution for you task\n",
    "test_path = os.path.abspath(os.getcwd()).split('gpt3_evaluation_scripts')[0] + 'processed_data/gpt3/completion_4/processed_test.json'\n",
    "generated_path = os.path.abspath(os.getcwd()).split('gpt3_evaluation_scripts')[0] + 'generated_data_gpt3/experiment_4/generated_answers_macaw.json'\n",
    "distractor_path = os.path.abspath(os.getcwd()).split('gpt3_evaluation_scripts')[0] + 'generated_data_gpt3/experiment_4/generated_distractors.json'"
   ]
  },
  {
   "cell_type": "code",
   "execution_count": 3,
   "id": "70b66793",
   "metadata": {},
   "outputs": [],
   "source": [
    "# Get all the target prompts and completions\n",
    "test_data = []\n",
    "\n",
    "for line in open(test_path):\n",
    "    test_data.append((json.loads(line)))\n",
    "    \n",
    "generated_data = []\n",
    "\n",
    "# Get the generated completions\n",
    "with open(generated_path) as f:\n",
    "    generated = json.load(f)\n",
    "\n",
    "for key in generated:\n",
    "    generated_data.append(generated[key])\n",
    "    \n",
    "distractor_data = []\n",
    "# Get the generated completions\n",
    "with open(distractor_path) as f:\n",
    "    distractors = json.load(f)\n",
    "\n",
    "for key in generated:\n",
    "    distractor_data.append(distractors[key])"
   ]
  },
  {
   "cell_type": "code",
   "execution_count": 4,
   "id": "3d9dfcfa",
   "metadata": {},
   "outputs": [
    {
     "name": "stdout",
     "output_type": "stream",
     "text": [
      "Accuracy: 75.16 %\n"
     ]
    }
   ],
   "source": [
    "count = 0\n",
    "similar_count = 0\n",
    "\n",
    "predictions = []\n",
    "gold_references = []\n",
    "\n",
    "for i in range(len(test_data)):\n",
    "    count += 1\n",
    "    \n",
    "    temp = test_data[i]['prompt']\n",
    "    completion = temp.split('\\n\\nAnswer: ')[1].split('\\n\\n###')[0]\n",
    "    clean_completion = completion.replace(\" \",\"\").replace(\"~\",\"\")\n",
    "    \n",
    "    generated_completion = generated_data[i][0].split('= ')[-1]\n",
    "    clean_generated_completion = generated_completion.replace(\" \",\"\")\n",
    "    \n",
    "    if clean_completion == clean_generated_completion:\n",
    "        similar_count += 1\n",
    "        \n",
    "    predictions.append(generated_completion)\n",
    "    gold_references.append(completion)\n",
    "    \n",
    "print('Accuracy:', round(similar_count/count * 100, 2), '%')"
   ]
  },
  {
   "cell_type": "code",
   "execution_count": 5,
   "id": "ea82f6b7",
   "metadata": {},
   "outputs": [],
   "source": [
    "# Create result files\n",
    "\n",
    "with open(os.path.abspath(os.getcwd()).split('gpt3_evaluation_scripts')[0] + 'generated_data_gpt3/experiment_4/' + 'predictions_macaw.txt', 'w') as f:\n",
    "    for i in range(len(predictions)):\n",
    "        f.write(predictions[i] + '\\n')\n",
    "        \n",
    "with open(os.path.abspath(os.getcwd()).split('gpt3_evaluation_scripts')[0] + 'generated_data_gpt3/experiment_4/' + 'ground_truth_macaw.txt', 'w') as f:\n",
    "    for i in range(len(gold_references)):\n",
    "        f.write(gold_references[i] + '\\n')\n",
    "        \n",
    "with open(os.path.abspath(os.getcwd()).split('gpt3_evaluation_scripts')[0] + 'generated_data_gpt3/experiment_4/' + 'automatic_evaluation.txt', 'w') as f:\n",
    "    f.write('Accuracy: ' + str(round(similar_count/count * 100, 2)) + '%')"
   ]
  },
  {
   "cell_type": "code",
   "execution_count": 6,
   "id": "b0b93515",
   "metadata": {},
   "outputs": [],
   "source": [
    "# Put the predictions and gold references from distractors in lists\n",
    "\n",
    "predictions = []\n",
    "gold_references = []\n",
    "\n",
    "for i in range(len(test_data)):\n",
    "    \n",
    "    completion = test_data[i]['completion']\n",
    "    clean_completion = completion.split('False answer: ')\n",
    "    distractor_1 = clean_completion[1].split('\\n')[0]\n",
    "    distractor_2 = clean_completion[2].split('\\n')[0]\n",
    "    distractor_3 = clean_completion[3].split('\\n')[0]\n",
    "    \n",
    "    gold_references.append([distractor_1, distractor_2, distractor_3])\n",
    "    \n",
    "    generated_completion = distractor_data[i]\n",
    "    clean_generated_completion = generated_completion.split('False answer:')\n",
    "    generated_distractor_1 = clean_generated_completion[1].split('\\n')[0].strip()\n",
    "    generated_distractor_2 = clean_generated_completion[2].split('\\n')[0].strip()\n",
    "    generated_distractor_3 = clean_generated_completion[3].split('\\n')[0].strip()\n",
    "\n",
    "    predictions.append([generated_distractor_1, generated_distractor_2, generated_distractor_3])"
   ]
  },
  {
   "cell_type": "code",
   "execution_count": 7,
   "id": "705ef3ed",
   "metadata": {},
   "outputs": [],
   "source": [
    "count = 0\n",
    "with open(os.path.abspath(os.getcwd()).split('gpt3_evaluation_scripts')[0] + 'human_evaluation/experiment4/' + 'exp4_gpt3.txt', 'w') as f:\n",
    "    for i in range(0,len(test_data),math.floor(len(test_data)/100)):\n",
    "        f.write('Excel row: ' + str(count+2) + ' Test instance: ' + str(i+1) + '\\n\\n')\n",
    "        f.write(test_data[i]['prompt'].split(\"\\n\\n###\")[0] + '\\n\\n')\n",
    "        f.write('Generated: ' + '\\n')\n",
    "        f.write('False answer: ' + predictions[i][0] + '\\n')\n",
    "        f.write('False answer: ' + predictions[i][1] + '\\n')\n",
    "        f.write('False answer: ' + predictions[i][2] + '\\n\\n')\n",
    "        f.write('----------------------------------------------------------------------------------------' + '\\n\\n')\n",
    "        count+=1\n",
    "        \n",
    "        if count == 100:\n",
    "            break"
   ]
  }
 ],
 "metadata": {
  "kernelspec": {
   "display_name": "test",
   "language": "python",
   "name": "test"
  },
  "language_info": {
   "codemirror_mode": {
    "name": "ipython",
    "version": 3
   },
   "file_extension": ".py",
   "mimetype": "text/x-python",
   "name": "python",
   "nbconvert_exporter": "python",
   "pygments_lexer": "ipython3",
   "version": "3.9.7"
  }
 },
 "nbformat": 4,
 "nbformat_minor": 5
}
