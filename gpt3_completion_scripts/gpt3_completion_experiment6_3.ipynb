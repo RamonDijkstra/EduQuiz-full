{
 "cells": [
  {
   "cell_type": "code",
   "execution_count": 1,
   "id": "8ced4de7",
   "metadata": {},
   "outputs": [],
   "source": [
    "import json\n",
    "import os"
   ]
  },
  {
   "cell_type": "code",
   "execution_count": 2,
   "id": "5d8a7f81",
   "metadata": {},
   "outputs": [],
   "source": [
    "# Change these variables to perform evalution for you task\n",
    "test_path = os.path.abspath(os.getcwd()).split('gpt3_completion_scripts')[0] + 'processed_data/gpt3/completion_6/processed_test.json'\n",
    "quiz_path = os.path.abspath(os.getcwd()).split('gpt3_completion_scripts')[0] + 'generated_data_gpt3/experiment_6/generated_quiz.json'\n",
    "input_macaw_path = os.path.abspath(os.getcwd()).split('gpt3_completion_scripts')[0] + 'generated_data_gpt3/experiment_6/input_macaw.json'"
   ]
  },
  {
   "cell_type": "code",
   "execution_count": 3,
   "id": "70b66793",
   "metadata": {},
   "outputs": [],
   "source": [
    "# Open test datasets\n",
    "\n",
    "test_data = []\n",
    "\n",
    "for line in open(test_path):\n",
    "    test_data.append((json.loads(line)))\n",
    "    \n",
    "# Get questions\n",
    "quizzes = []\n",
    "with open(quiz_path) as f:\n",
    "    generated_quizzes = json.load(f)\n",
    "\n",
    "for key in generated_quizzes:\n",
    "    quizzes.append(generated_quizzes[key])"
   ]
  },
  {
   "cell_type": "markdown",
   "id": "2f037b99",
   "metadata": {},
   "source": [
    "# Create input file for testing accuracy with Macaw-11b"
   ]
  },
  {
   "cell_type": "code",
   "execution_count": 4,
   "id": "400071c2",
   "metadata": {},
   "outputs": [],
   "source": [
    "macaw_data_list = []\n",
    "    \n",
    "for i in range(len(test_data)):\n",
    "    temp = test_data[i]['prompt']\n",
    "    text = temp.split('\\n\\n###\\n\\n')[0]\n",
    "    question = quizzes[i].split(' Question: ')[1].split(\"\\nTrue answer\")[0]\n",
    "    answer = quizzes[i].split('True answer: ')[1].split(\"\\nFalse answer\")[0]\n",
    "    options = quizzes[i].split(\"False answer: \")\n",
    "    option_a = answer\n",
    "    option_b = options[1].split('\\n')[0]\n",
    "    option_c = options[2].split('\\n')[0]\n",
    "    option_d = options[3].split('\\n')[0]\n",
    "    \n",
    "    macaw_prompt_text = \"$answer$\" + \" ; \" + \"$question$ = \" + question + \" $mcoptions$ = (A) \" + option_a + \\\n",
    "                        \" (B) \" + option_b + \" (C) \" + option_c + \" (D) \" + option_d + \" $context$ = \" + text    \n",
    "    macaw_completion = answer\n",
    "    \n",
    "    macaw_dict = {\"prompt\": macaw_prompt_text, \"completion\": macaw_completion}\n",
    "    macaw_data_list.append(macaw_dict) "
   ]
  },
  {
   "cell_type": "code",
   "execution_count": 5,
   "id": "2694780e",
   "metadata": {},
   "outputs": [],
   "source": [
    "with open(input_macaw_path, 'w') as f:\n",
    "    for item in macaw_data_list:\n",
    "        f.write(json.dumps(item) + \"\\n\")"
   ]
  }
 ],
 "metadata": {
  "kernelspec": {
   "display_name": "test",
   "language": "python",
   "name": "test"
  },
  "language_info": {
   "codemirror_mode": {
    "name": "ipython",
    "version": 3
   },
   "file_extension": ".py",
   "mimetype": "text/x-python",
   "name": "python",
   "nbconvert_exporter": "python",
   "pygments_lexer": "ipython3",
   "version": "3.9.7"
  }
 },
 "nbformat": 4,
 "nbformat_minor": 5
}
