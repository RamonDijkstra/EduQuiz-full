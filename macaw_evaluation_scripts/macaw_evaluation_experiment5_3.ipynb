{
 "cells": [
  {
   "cell_type": "code",
   "execution_count": 1,
   "id": "8ced4de7",
   "metadata": {},
   "outputs": [],
   "source": [
    "import datasets\n",
    "import json\n",
    "import os\n",
    "import numpy as np\n",
    "import collections\n",
    "import re\n",
    "import string\n",
    "import math"
   ]
  },
  {
   "cell_type": "code",
   "execution_count": 2,
   "id": "76867e37",
   "metadata": {},
   "outputs": [],
   "source": [
    "# Change these variables to perform evalution for you task\n",
    "test_path = os.path.abspath(os.getcwd()).split('macaw_evaluation_scripts')[0] + 'processed_data/macaw/completion_5/processed_test.json'\n",
    "question_path = os.path.abspath(os.getcwd()).split('macaw_evaluation_scripts')[0] + 'generated_data_macaw/experiment_5/generated_questions.json'\n",
    "answer_path = os.path.abspath(os.getcwd()).split('macaw_evaluation_scripts')[0] + 'generated_data_macaw/experiment_5/generated_answers.json'\n",
    "distractor_path = os.path.abspath(os.getcwd()).split('macaw_evaluation_scripts')[0] + 'generated_data_macaw/experiment_5/generated_distractors.json'\n",
    "generated_path = os.path.abspath(os.getcwd()).split('macaw_evaluation_scripts')[0] + 'generated_data_macaw/experiment_5/generated_quiz_answers.json'"
   ]
  },
  {
   "cell_type": "code",
   "execution_count": 3,
   "id": "70b66793",
   "metadata": {},
   "outputs": [],
   "source": [
    "# Get all the target prompts and completions\n",
    "test_data = []\n",
    "\n",
    "for line in open(test_path):\n",
    "    test_data.append((json.loads(line)))\n",
    "\n",
    "# Get all the answers\n",
    "answers = []\n",
    "\n",
    "with open(answer_path) as f:\n",
    "    generated = json.load(f)\n",
    "\n",
    "for key in generated:\n",
    "    answers.append(generated[key])\n",
    "    \n",
    "generated_data = []\n",
    "\n",
    "# Get the generated completions\n",
    "with open(generated_path) as f:\n",
    "    generated = json.load(f)\n",
    "\n",
    "for key in generated:\n",
    "    generated_data.append(generated[key])\n",
    "    \n",
    "# Open for human evaluation\n",
    "questions = []\n",
    "\n",
    "with open(question_path) as f:\n",
    "    generated = json.load(f)\n",
    "\n",
    "for key in generated:\n",
    "    questions.append(generated[key])\n",
    "    \n",
    "distractors = []\n",
    "\n",
    "with open(distractor_path) as f:\n",
    "    generated = json.load(f)\n",
    "\n",
    "for key in generated:\n",
    "    distractors.append(generated[key])"
   ]
  },
  {
   "cell_type": "code",
   "execution_count": 4,
   "id": "3d9dfcfa",
   "metadata": {},
   "outputs": [
    {
     "name": "stdout",
     "output_type": "stream",
     "text": [
      "Accuracy: 66.11 %\n"
     ]
    }
   ],
   "source": [
    "count = 0\n",
    "similar_count = 0\n",
    "\n",
    "predictions = []\n",
    "gold_references = []\n",
    "\n",
    "for i in range(len(test_data)):\n",
    "    count += 1\n",
    "    \n",
    "    completion = answers[i][0].split('= ')[-1]\n",
    "    clean_completion = completion.replace(\" \",\"\").replace(\"~\",\"\").replace('.',\"\").lower()\n",
    "    \n",
    "    generated_completion = generated_data[i][0].split('= ')[-1]\n",
    "    clean_generated_completion = generated_completion.replace(\" \",\"\").replace('.',\"\").lower()\n",
    "    \n",
    "    if clean_completion == clean_generated_completion:\n",
    "        similar_count += 1\n",
    "        \n",
    "    predictions.append(generated_completion)\n",
    "    gold_references.append(completion)\n",
    "    \n",
    "print('Accuracy:', round(similar_count/count * 100, 2), '%')"
   ]
  },
  {
   "cell_type": "code",
   "execution_count": 5,
   "id": "ea82f6b7",
   "metadata": {},
   "outputs": [],
   "source": [
    "# Create result files\n",
    "\n",
    "with open(os.path.abspath(os.getcwd()).split('macaw_evaluation_scripts')[0] + 'generated_data_macaw/experiment_5/' + 'predictions_answers.txt', 'w') as f:\n",
    "    for i in range(len(predictions)):\n",
    "        f.write(predictions[i] + '\\n')\n",
    "        \n",
    "with open(os.path.abspath(os.getcwd()).split('macaw_evaluation_scripts')[0] + 'generated_data_macaw/experiment_5/' + 'ground_truth_answers.txt', 'w') as f:\n",
    "    for i in range(len(gold_references)):\n",
    "        f.write(gold_references[i] + '\\n')\n",
    "        \n",
    "with open(os.path.abspath(os.getcwd()).split('macaw_evaluation_scripts')[0] + 'generated_data_macaw/experiment_5/' + 'automatic_evaluation_answers.txt', 'w') as f:\n",
    "    f.write('Accuracy: ' + str(round(similar_count/count * 100, 2)) + '%')"
   ]
  },
  {
   "cell_type": "code",
   "execution_count": 6,
   "id": "ccf7eb3c",
   "metadata": {},
   "outputs": [],
   "source": [
    "count = 0\n",
    "with open(os.path.abspath(os.getcwd()).split('macaw_evaluation_scripts')[0] + 'human_evaluation/experiment5/' + 'exp5_macaw.txt', 'w') as f:\n",
    "    for i in range(0,len(test_data),math.floor(len(test_data)/100)):\n",
    "        mcoptions = distractors[i][0].split('= ')[-1].split('(')\n",
    "        f.write('Excel row: ' + str(count+2) + ' Test instance: ' + str(i+1) + '\\n\\n')\n",
    "        f.write(test_data[i]['prompt'].split(\"$context$ = \")[1] + '\\n\\n')\n",
    "        f.write('Generated quiz:\\n')\n",
    "        f.write('Question: ' + questions[i][0].split('= ')[1] + '\\n')\n",
    "        f.write('Answer: '+ answers[i][0].split('= ')[1] + '\\n')\n",
    "        try:\n",
    "            f.write('MC option ' + mcoptions[1] + '\\n')\n",
    "            f.write('MC option ' + mcoptions[2] + '\\n')\n",
    "            f.write('MC option ' + mcoptions[3] + '\\n')\n",
    "            f.write('MC option ' + mcoptions[4] + '\\n\\n')\n",
    "        except:\n",
    "            f.write('MC options are not created properly' + '\\n\\n')\n",
    "        f.write('----------------------------------------------------------------------------------------' + '\\n\\n')\n",
    "        count+=1\n",
    "        \n",
    "        if count == 100:\n",
    "            break"
   ]
  }
 ],
 "metadata": {
  "kernelspec": {
   "display_name": "test",
   "language": "python",
   "name": "test"
  },
  "language_info": {
   "codemirror_mode": {
    "name": "ipython",
    "version": 3
   },
   "file_extension": ".py",
   "mimetype": "text/x-python",
   "name": "python",
   "nbconvert_exporter": "python",
   "pygments_lexer": "ipython3",
   "version": "3.9.7"
  }
 },
 "nbformat": 4,
 "nbformat_minor": 5
}
