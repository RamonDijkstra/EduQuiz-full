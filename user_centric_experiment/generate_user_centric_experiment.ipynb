{
 "cells": [
  {
   "cell_type": "code",
   "execution_count": 1,
   "id": "8ced4de7",
   "metadata": {},
   "outputs": [],
   "source": [
    "import datasets\n",
    "import json\n",
    "import os\n",
    "import math\n",
    "import numpy as np\n",
    "import random"
   ]
  },
  {
   "cell_type": "code",
   "execution_count": 2,
   "id": "2e90cef0",
   "metadata": {},
   "outputs": [],
   "source": [
    "random.seed(42)"
   ]
  },
  {
   "cell_type": "code",
   "execution_count": 3,
   "id": "76867e37",
   "metadata": {},
   "outputs": [],
   "source": [
    "# Change these variables to perform evalution for you task\n",
    "original_quiz_path = os.path.abspath(os.getcwd()).split('user_centric_experiment')[0] + 'processed_data/gpt3/completion_6/processed_test.json'\n",
    "generated_quiz_path = os.path.abspath(os.getcwd()).split('user_centric_experiment')[0] + 'generated_data_gpt3/experiment_6/generated_quiz.json'"
   ]
  },
  {
   "cell_type": "code",
   "execution_count": 4,
   "id": "70b66793",
   "metadata": {},
   "outputs": [],
   "source": [
    "# Get prompts\n",
    "prompts = []\n",
    "\n",
    "for line in open(original_quiz_path):\n",
    "    prompts.append(json.loads(line)['prompt'].split('\\n\\n###')[0].strip())\n",
    "\n",
    "# Get original quizzes\n",
    "original_quizzes = []\n",
    "\n",
    "for line in open(original_quiz_path):\n",
    "    original_quizzes.append(json.loads(line)['completion'].split('\\n###')[0].strip())\n",
    "    \n",
    "# Get generated quizzes\n",
    "generated_quizzes = []\n",
    "with open(generated_quiz_path) as f:\n",
    "    generated_quizzes_dict = json.load(f)\n",
    "\n",
    "for key in generated_quizzes_dict:\n",
    "    generated_quizzes.append(generated_quizzes_dict[key].strip())"
   ]
  },
  {
   "cell_type": "code",
   "execution_count": 5,
   "id": "e364368b",
   "metadata": {},
   "outputs": [],
   "source": [
    "def shuffle_quizzes(quizzes):\n",
    "    shuffled_quizzes = []\n",
    "    \n",
    "    for i in range(len(quizzes)):\n",
    "        quiz = quizzes[i].split('\\n')\n",
    "        question = quiz[0]\n",
    "        answers = quiz[1:]\n",
    "\n",
    "        random.shuffle(answers)\n",
    "\n",
    "        shuffled_quiz = question + '\\n' + '\\n'.join(answers)\n",
    "\n",
    "        shuffled_quizzes.append(shuffled_quiz)\n",
    "        \n",
    "    return shuffled_quizzes\n",
    "\n",
    "shuffled_original_quizzes = shuffle_quizzes(original_quizzes)\n",
    "shuffled_generated_quizzes = shuffle_quizzes(generated_quizzes)"
   ]
  },
  {
   "cell_type": "code",
   "execution_count": 6,
   "id": "56ef5fc2",
   "metadata": {},
   "outputs": [],
   "source": [
    "human_evaluation_idx = []\n",
    "excel_idx = np.arange(2,102)\n",
    "\n",
    "count = 0\n",
    "for i in range(0,len(original_quizzes),math.floor(len(original_quizzes)/100)):\n",
    "    human_evaluation_idx.append(i)\n",
    "    count+=1\n",
    "\n",
    "    if count == 100:\n",
    "        break\n",
    "        \n",
    "overlap_idx = [9, 36, 117, 234, 270, 324, 369, 432, 459, 477, 549, 585, 594, 666, 684, 711, 729, 747, 792, 846]\n",
    "overlap_excel = [3, 6, 15, 28, 32, 38, 43, 50, 53, 55, 63, 67, 68, 76, 78, 81, 83, 85, 90, 96]\n",
    "\n",
    "case_study_idx = [x for x in human_evaluation_idx if x not in overlap_idx]\n",
    "case_study_excel = [x for x in excel_idx if x not in overlap_excel]\n",
    "\n",
    "random_idx = random.sample(range(80), 20)\n",
    "\n",
    "sampled_idx = sorted(random.sample(case_study_idx, 20))\n",
    "sampled_excel = sorted(random.sample(case_study_excel, 20))\n",
    "\n",
    "sampled_idx = sorted([case_study_idx[x] for x in random_idx])\n",
    "sampled_excel = sorted([case_study_excel[x] for x in random_idx])"
   ]
  },
  {
   "cell_type": "code",
   "execution_count": 7,
   "id": "a6e6e04c",
   "metadata": {},
   "outputs": [],
   "source": [
    "count = 0\n",
    "with open('raw_user_centric_experiment.txt', 'w') as f:\n",
    "    for i in range(len(sampled_idx)):\n",
    "        f.write('Excel row: ' + str(sampled_excel[i]) + ' Test instance: ' + str(sampled_idx[i]+1) + '\\n\\n')\n",
    "        f.write(prompts[sampled_idx[i]] + '\\n\\n')\n",
    "        f.write('Original quiz:\\n')\n",
    "        f.write(shuffled_original_quizzes[sampled_idx[i]].strip() + '\\n\\n')\n",
    "        f.write('Generated quiz:\\n')\n",
    "        f.write(shuffled_generated_quizzes[sampled_idx[i]].strip() + '\\n\\n')\n",
    "        f.write('----------------------------------------------------------------------------------------' + '\\n\\n')\n",
    "        count+=1\n",
    "        \n",
    "        if count == 100:\n",
    "            break"
   ]
  }
 ],
 "metadata": {
  "kernelspec": {
   "display_name": "test",
   "language": "python",
   "name": "test"
  },
  "language_info": {
   "codemirror_mode": {
    "name": "ipython",
    "version": 3
   },
   "file_extension": ".py",
   "mimetype": "text/x-python",
   "name": "python",
   "nbconvert_exporter": "python",
   "pygments_lexer": "ipython3",
   "version": "3.9.7"
  }
 },
 "nbformat": 4,
 "nbformat_minor": 5
}
